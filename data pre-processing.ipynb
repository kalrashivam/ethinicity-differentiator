{
 "cells": [
  {
   "cell_type": "markdown",
   "metadata": {},
   "source": [
    "## Taking in all the datasets and forming one data set with three columns "
   ]
  },
  {
   "cell_type": "code",
   "execution_count": 91,
   "metadata": {
    "collapsed": true
   },
   "outputs": [],
   "source": [
    "import numpy as np\n",
    "import pandas as pd"
   ]
  },
  {
   "cell_type": "code",
   "execution_count": 92,
   "metadata": {
    "collapsed": true
   },
   "outputs": [],
   "source": [
    "df = pd.read_csv('Black-Female-Names.csv')"
   ]
  },
  {
   "cell_type": "code",
   "execution_count": 93,
   "metadata": {},
   "outputs": [
    {
     "data": {
      "text/html": [
       "<div>\n",
       "<style>\n",
       "    .dataframe thead tr:only-child th {\n",
       "        text-align: right;\n",
       "    }\n",
       "\n",
       "    .dataframe thead th {\n",
       "        text-align: left;\n",
       "    }\n",
       "\n",
       "    .dataframe tbody tr th {\n",
       "        vertical-align: top;\n",
       "    }\n",
       "</style>\n",
       "<table border=\"1\" class=\"dataframe\">\n",
       "  <thead>\n",
       "    <tr style=\"text-align: right;\">\n",
       "      <th></th>\n",
       "      <th>last name</th>\n",
       "      <th>first name</th>\n",
       "      <th>gender</th>\n",
       "      <th>race</th>\n",
       "    </tr>\n",
       "  </thead>\n",
       "  <tbody>\n",
       "    <tr>\n",
       "      <th>0</th>\n",
       "      <td>abraham</td>\n",
       "      <td>tashanika l</td>\n",
       "      <td>f</td>\n",
       "      <td>black</td>\n",
       "    </tr>\n",
       "    <tr>\n",
       "      <th>1</th>\n",
       "      <td>adams</td>\n",
       "      <td>denetra c</td>\n",
       "      <td>f</td>\n",
       "      <td>black</td>\n",
       "    </tr>\n",
       "    <tr>\n",
       "      <th>2</th>\n",
       "      <td>adams</td>\n",
       "      <td>tomesha d</td>\n",
       "      <td>f</td>\n",
       "      <td>black</td>\n",
       "    </tr>\n",
       "    <tr>\n",
       "      <th>3</th>\n",
       "      <td>adams</td>\n",
       "      <td>trellany c</td>\n",
       "      <td>f</td>\n",
       "      <td>black</td>\n",
       "    </tr>\n",
       "    <tr>\n",
       "      <th>4</th>\n",
       "      <td>adderley</td>\n",
       "      <td>cynthia s</td>\n",
       "      <td>f</td>\n",
       "      <td>black</td>\n",
       "    </tr>\n",
       "  </tbody>\n",
       "</table>\n",
       "</div>"
      ],
      "text/plain": [
       "  last name     first name gender   race\n",
       "0   abraham   tashanika l       f  black\n",
       "1     adams     denetra c       f  black\n",
       "2     adams     tomesha d       f  black\n",
       "3     adams    trellany c       f  black\n",
       "4  adderley     cynthia s       f  black"
      ]
     },
     "execution_count": 93,
     "metadata": {},
     "output_type": "execute_result"
    }
   ],
   "source": [
    "df.head()"
   ]
  },
  {
   "cell_type": "code",
   "execution_count": 94,
   "metadata": {},
   "outputs": [],
   "source": [
    "df['name'] = df[' first name'].astype(str) + df['last name']"
   ]
  },
  {
   "cell_type": "code",
   "execution_count": 95,
   "metadata": {},
   "outputs": [
    {
     "data": {
      "text/plain": [
       "0         tashanika l \n",
       "1           denetra c \n",
       "2           tomesha d \n",
       "3          trellany c \n",
       "4           cynthia s \n",
       "5           crystal l \n",
       "6           beverly s \n",
       "7              robin  \n",
       "8            sophia l \n",
       "9           marquita  \n",
       "10           sylvia h \n",
       "11          dorothy k \n",
       "12         zakiyyah n \n",
       "13          crystal r \n",
       "14         allissia p \n",
       "15         mahogany t \n",
       "16          melonise  \n",
       "17           monique  \n",
       "18          sherline  \n",
       "19         veronica j \n",
       "20          beverly j \n",
       "21           brenda j \n",
       "22            delta s \n",
       "23          genesha l \n",
       "24         margaret a \n",
       "25        stephanie s \n",
       "26        pachadgin e \n",
       "27           shaina a \n",
       "28          latonia d \n",
       "29           ashley a \n",
       "             ...      \n",
       "2408          terrie w\n",
       "2409     lamarsharee d\n",
       "2410          jackie d\n",
       "2411          latasha \n",
       "2412      marquachun r\n",
       "2413           tonya l\n",
       "2414      alexandria a\n",
       "2415          esther r\n",
       "2416         lashonna \n",
       "2417          latisha \n",
       "2418          latonya \n",
       "2419           margo a\n",
       "2420          regina d\n",
       "2421         shequena \n",
       "2422         tawanda l\n",
       "2423          tekelia \n",
       "2424         tiffiny y\n",
       "2425        charlene j\n",
       "2426           denise \n",
       "2427           kendra \n",
       "2428           lillie \n",
       "2429       frelandra s\n",
       "2430          ashley a\n",
       "2431        gwendolyn \n",
       "2432        adrienne c\n",
       "2433            marie \n",
       "2434         laquinta \n",
       "2435          felicia \n",
       "2436          yolanda \n",
       "2437         phillis a\n",
       "Name:  first name, Length: 2438, dtype: object"
      ]
     },
     "execution_count": 95,
     "metadata": {},
     "output_type": "execute_result"
    }
   ],
   "source": [
    "df.pop('last name')\n",
    "df.pop(' first name')"
   ]
  },
  {
   "cell_type": "code",
   "execution_count": 96,
   "metadata": {},
   "outputs": [
    {
     "data": {
      "text/plain": [
       "(2438, 3)"
      ]
     },
     "execution_count": 96,
     "metadata": {},
     "output_type": "execute_result"
    }
   ],
   "source": [
    "df.shape "
   ]
  },
  {
   "cell_type": "code",
   "execution_count": 97,
   "metadata": {
    "collapsed": true
   },
   "outputs": [],
   "source": [
    "df2 = pd.read_csv('Black-Male-Names.csv')"
   ]
  },
  {
   "cell_type": "code",
   "execution_count": 98,
   "metadata": {},
   "outputs": [
    {
     "data": {
      "text/html": [
       "<div>\n",
       "<style>\n",
       "    .dataframe thead tr:only-child th {\n",
       "        text-align: right;\n",
       "    }\n",
       "\n",
       "    .dataframe thead th {\n",
       "        text-align: left;\n",
       "    }\n",
       "\n",
       "    .dataframe tbody tr th {\n",
       "        vertical-align: top;\n",
       "    }\n",
       "</style>\n",
       "<table border=\"1\" class=\"dataframe\">\n",
       "  <thead>\n",
       "    <tr style=\"text-align: right;\">\n",
       "      <th></th>\n",
       "      <th>last name</th>\n",
       "      <th>first name</th>\n",
       "      <th>gender</th>\n",
       "      <th>race</th>\n",
       "    </tr>\n",
       "  </thead>\n",
       "  <tbody>\n",
       "    <tr>\n",
       "      <th>0</th>\n",
       "      <td>aaron</td>\n",
       "      <td>aaric a</td>\n",
       "      <td>m</td>\n",
       "      <td>black</td>\n",
       "    </tr>\n",
       "    <tr>\n",
       "      <th>1</th>\n",
       "      <td>aaron</td>\n",
       "      <td>dominique j</td>\n",
       "      <td>m</td>\n",
       "      <td>black</td>\n",
       "    </tr>\n",
       "    <tr>\n",
       "      <th>2</th>\n",
       "      <td>aaron</td>\n",
       "      <td>fredrick r</td>\n",
       "      <td>m</td>\n",
       "      <td>black</td>\n",
       "    </tr>\n",
       "    <tr>\n",
       "      <th>3</th>\n",
       "      <td>aaron</td>\n",
       "      <td>jarvis</td>\n",
       "      <td>m</td>\n",
       "      <td>black</td>\n",
       "    </tr>\n",
       "    <tr>\n",
       "      <th>4</th>\n",
       "      <td>aaron</td>\n",
       "      <td>lorenzo</td>\n",
       "      <td>m</td>\n",
       "      <td>black</td>\n",
       "    </tr>\n",
       "  </tbody>\n",
       "</table>\n",
       "</div>"
      ],
      "text/plain": [
       "  last name     first name gender   race\n",
       "0     aaron       aaric a       m  black\n",
       "1     aaron   dominique j       m  black\n",
       "2     aaron    fredrick r       m  black\n",
       "3     aaron       jarvis        m  black\n",
       "4     aaron      lorenzo        m  black"
      ]
     },
     "execution_count": 98,
     "metadata": {},
     "output_type": "execute_result"
    }
   ],
   "source": [
    "df2.head()"
   ]
  },
  {
   "cell_type": "code",
   "execution_count": 99,
   "metadata": {},
   "outputs": [],
   "source": [
    "df2['name'] = df2['first name'].astype(str) + df2['last name']"
   ]
  },
  {
   "cell_type": "code",
   "execution_count": 100,
   "metadata": {},
   "outputs": [
    {
     "data": {
      "text/html": [
       "<div>\n",
       "<style>\n",
       "    .dataframe thead tr:only-child th {\n",
       "        text-align: right;\n",
       "    }\n",
       "\n",
       "    .dataframe thead th {\n",
       "        text-align: left;\n",
       "    }\n",
       "\n",
       "    .dataframe tbody tr th {\n",
       "        vertical-align: top;\n",
       "    }\n",
       "</style>\n",
       "<table border=\"1\" class=\"dataframe\">\n",
       "  <thead>\n",
       "    <tr style=\"text-align: right;\">\n",
       "      <th></th>\n",
       "      <th>last name</th>\n",
       "      <th>first name</th>\n",
       "      <th>gender</th>\n",
       "      <th>race</th>\n",
       "      <th>name</th>\n",
       "    </tr>\n",
       "  </thead>\n",
       "  <tbody>\n",
       "    <tr>\n",
       "      <th>0</th>\n",
       "      <td>aaron</td>\n",
       "      <td>aaric a</td>\n",
       "      <td>m</td>\n",
       "      <td>black</td>\n",
       "      <td>aaric a aaron</td>\n",
       "    </tr>\n",
       "    <tr>\n",
       "      <th>1</th>\n",
       "      <td>aaron</td>\n",
       "      <td>dominique j</td>\n",
       "      <td>m</td>\n",
       "      <td>black</td>\n",
       "      <td>dominique j aaron</td>\n",
       "    </tr>\n",
       "    <tr>\n",
       "      <th>2</th>\n",
       "      <td>aaron</td>\n",
       "      <td>fredrick r</td>\n",
       "      <td>m</td>\n",
       "      <td>black</td>\n",
       "      <td>fredrick r aaron</td>\n",
       "    </tr>\n",
       "    <tr>\n",
       "      <th>3</th>\n",
       "      <td>aaron</td>\n",
       "      <td>jarvis</td>\n",
       "      <td>m</td>\n",
       "      <td>black</td>\n",
       "      <td>jarvis  aaron</td>\n",
       "    </tr>\n",
       "    <tr>\n",
       "      <th>4</th>\n",
       "      <td>aaron</td>\n",
       "      <td>lorenzo</td>\n",
       "      <td>m</td>\n",
       "      <td>black</td>\n",
       "      <td>lorenzo  aaron</td>\n",
       "    </tr>\n",
       "  </tbody>\n",
       "</table>\n",
       "</div>"
      ],
      "text/plain": [
       "  last name     first name gender   race                name\n",
       "0     aaron       aaric a       m  black       aaric a aaron\n",
       "1     aaron   dominique j       m  black   dominique j aaron\n",
       "2     aaron    fredrick r       m  black    fredrick r aaron\n",
       "3     aaron       jarvis        m  black       jarvis  aaron\n",
       "4     aaron      lorenzo        m  black      lorenzo  aaron"
      ]
     },
     "execution_count": 100,
     "metadata": {},
     "output_type": "execute_result"
    }
   ],
   "source": [
    "df2.head()"
   ]
  },
  {
   "cell_type": "code",
   "execution_count": 101,
   "metadata": {},
   "outputs": [
    {
     "data": {
      "text/plain": [
       "0               aaric a \n",
       "1           dominique j \n",
       "2            fredrick r \n",
       "3               jarvis  \n",
       "4              lorenzo  \n",
       "5              paul r jr\n",
       "6                 paul  \n",
       "7             richard s \n",
       "8               tyler p \n",
       "9          elsharnoubi  \n",
       "10             calvin j \n",
       "11                ali s \n",
       "12             lugman m \n",
       "13              jihad a \n",
       "14        hamid-ahmad i \n",
       "15             saboor a \n",
       "16              yusuf h \n",
       "17             meshac m \n",
       "18             gerald a \n",
       "19              brian l \n",
       "20               tony a \n",
       "21            isiah j jr\n",
       "22             johnny q \n",
       "23             parish a \n",
       "24              clyde d \n",
       "25            derrick a \n",
       "26             kahlil k \n",
       "27             otha l jr\n",
       "28               billy  \n",
       "29        christopher j \n",
       "              ...       \n",
       "35051          andrew l \n",
       "35052         anthony l \n",
       "35053         anthony p \n",
       "35054         anthony t \n",
       "35055         antonio l \n",
       "35056         antwann l \n",
       "35057        benjamin a \n",
       "35058         charlie e \n",
       "35059            cody d \n",
       "35060            corey  \n",
       "35061          curtis d \n",
       "35062         darrell e \n",
       "35063           darren  \n",
       "35064          darrin l \n",
       "35065           david l \n",
       "35066       dekevious l \n",
       "35067           devin l \n",
       "35068          donald c \n",
       "35069        donald c jr\n",
       "35070         douglas m \n",
       "35071           ennis l \n",
       "35072         enoch h jr\n",
       "35073            eric s \n",
       "35074          ernest a \n",
       "35075         frankie l \n",
       "35076         freddie l \n",
       "35077        fredrick c \n",
       "35078          gregory  \n",
       "35079           irvin c \n",
       "35080          isaiah f \n",
       "Name: first name, Length: 35081, dtype: object"
      ]
     },
     "execution_count": 101,
     "metadata": {},
     "output_type": "execute_result"
    }
   ],
   "source": [
    "df2.pop('last name')\n",
    "df2.pop('first name')"
   ]
  },
  {
   "cell_type": "code",
   "execution_count": 102,
   "metadata": {},
   "outputs": [
    {
     "data": {
      "text/html": [
       "<div>\n",
       "<style>\n",
       "    .dataframe thead tr:only-child th {\n",
       "        text-align: right;\n",
       "    }\n",
       "\n",
       "    .dataframe thead th {\n",
       "        text-align: left;\n",
       "    }\n",
       "\n",
       "    .dataframe tbody tr th {\n",
       "        vertical-align: top;\n",
       "    }\n",
       "</style>\n",
       "<table border=\"1\" class=\"dataframe\">\n",
       "  <thead>\n",
       "    <tr style=\"text-align: right;\">\n",
       "      <th></th>\n",
       "      <th>gender</th>\n",
       "      <th>race</th>\n",
       "      <th>name</th>\n",
       "    </tr>\n",
       "  </thead>\n",
       "  <tbody>\n",
       "    <tr>\n",
       "      <th>0</th>\n",
       "      <td>m</td>\n",
       "      <td>black</td>\n",
       "      <td>aaric a aaron</td>\n",
       "    </tr>\n",
       "    <tr>\n",
       "      <th>1</th>\n",
       "      <td>m</td>\n",
       "      <td>black</td>\n",
       "      <td>dominique j aaron</td>\n",
       "    </tr>\n",
       "    <tr>\n",
       "      <th>2</th>\n",
       "      <td>m</td>\n",
       "      <td>black</td>\n",
       "      <td>fredrick r aaron</td>\n",
       "    </tr>\n",
       "    <tr>\n",
       "      <th>3</th>\n",
       "      <td>m</td>\n",
       "      <td>black</td>\n",
       "      <td>jarvis  aaron</td>\n",
       "    </tr>\n",
       "    <tr>\n",
       "      <th>4</th>\n",
       "      <td>m</td>\n",
       "      <td>black</td>\n",
       "      <td>lorenzo  aaron</td>\n",
       "    </tr>\n",
       "  </tbody>\n",
       "</table>\n",
       "</div>"
      ],
      "text/plain": [
       "  gender   race                name\n",
       "0      m  black       aaric a aaron\n",
       "1      m  black   dominique j aaron\n",
       "2      m  black    fredrick r aaron\n",
       "3      m  black       jarvis  aaron\n",
       "4      m  black      lorenzo  aaron"
      ]
     },
     "execution_count": 102,
     "metadata": {},
     "output_type": "execute_result"
    }
   ],
   "source": [
    "df2.head()"
   ]
  },
  {
   "cell_type": "code",
   "execution_count": 103,
   "metadata": {},
   "outputs": [
    {
     "data": {
      "text/plain": [
       "(35081, 3)"
      ]
     },
     "execution_count": 103,
     "metadata": {},
     "output_type": "execute_result"
    }
   ],
   "source": [
    "df2.shape"
   ]
  },
  {
   "cell_type": "code",
   "execution_count": 104,
   "metadata": {
    "collapsed": true
   },
   "outputs": [],
   "source": [
    "df3 = pd.read_csv('Hispanic-Female-Names.csv')"
   ]
  },
  {
   "cell_type": "code",
   "execution_count": 105,
   "metadata": {},
   "outputs": [
    {
     "data": {
      "text/html": [
       "<div>\n",
       "<style>\n",
       "    .dataframe thead tr:only-child th {\n",
       "        text-align: right;\n",
       "    }\n",
       "\n",
       "    .dataframe thead th {\n",
       "        text-align: left;\n",
       "    }\n",
       "\n",
       "    .dataframe tbody tr th {\n",
       "        vertical-align: top;\n",
       "    }\n",
       "</style>\n",
       "<table border=\"1\" class=\"dataframe\">\n",
       "  <thead>\n",
       "    <tr style=\"text-align: right;\">\n",
       "      <th></th>\n",
       "      <th>last name</th>\n",
       "      <th>first name</th>\n",
       "      <th>gender</th>\n",
       "      <th>race</th>\n",
       "    </tr>\n",
       "  </thead>\n",
       "  <tbody>\n",
       "    <tr>\n",
       "      <th>0</th>\n",
       "      <td>adams</td>\n",
       "      <td>shirley m</td>\n",
       "      <td>f</td>\n",
       "      <td>hispanic</td>\n",
       "    </tr>\n",
       "    <tr>\n",
       "      <th>1</th>\n",
       "      <td>alonso</td>\n",
       "      <td>ana d</td>\n",
       "      <td>f</td>\n",
       "      <td>hispanic</td>\n",
       "    </tr>\n",
       "    <tr>\n",
       "      <th>2</th>\n",
       "      <td>alonzo</td>\n",
       "      <td>miriam</td>\n",
       "      <td>f</td>\n",
       "      <td>hispanic</td>\n",
       "    </tr>\n",
       "    <tr>\n",
       "      <th>3</th>\n",
       "      <td>alvarez</td>\n",
       "      <td>ivette</td>\n",
       "      <td>f</td>\n",
       "      <td>hispanic</td>\n",
       "    </tr>\n",
       "    <tr>\n",
       "      <th>4</th>\n",
       "      <td>amador</td>\n",
       "      <td>saray</td>\n",
       "      <td>f</td>\n",
       "      <td>hispanic</td>\n",
       "    </tr>\n",
       "  </tbody>\n",
       "</table>\n",
       "</div>"
      ],
      "text/plain": [
       "  last name   first name gender      race\n",
       "0     adams   shirley m       f  hispanic\n",
       "1    alonso       ana d       f  hispanic\n",
       "2    alonzo     miriam        f  hispanic\n",
       "3   alvarez     ivette        f  hispanic\n",
       "4    amador      saray        f  hispanic"
      ]
     },
     "execution_count": 105,
     "metadata": {},
     "output_type": "execute_result"
    }
   ],
   "source": [
    "df3.head()"
   ]
  },
  {
   "cell_type": "code",
   "execution_count": 106,
   "metadata": {},
   "outputs": [],
   "source": [
    "df3['name'] = df3[' first name'].astype(str) + df3['last name']"
   ]
  },
  {
   "cell_type": "code",
   "execution_count": 107,
   "metadata": {},
   "outputs": [
    {
     "data": {
      "text/html": [
       "<div>\n",
       "<style>\n",
       "    .dataframe thead tr:only-child th {\n",
       "        text-align: right;\n",
       "    }\n",
       "\n",
       "    .dataframe thead th {\n",
       "        text-align: left;\n",
       "    }\n",
       "\n",
       "    .dataframe tbody tr th {\n",
       "        vertical-align: top;\n",
       "    }\n",
       "</style>\n",
       "<table border=\"1\" class=\"dataframe\">\n",
       "  <thead>\n",
       "    <tr style=\"text-align: right;\">\n",
       "      <th></th>\n",
       "      <th>last name</th>\n",
       "      <th>first name</th>\n",
       "      <th>gender</th>\n",
       "      <th>race</th>\n",
       "      <th>name</th>\n",
       "    </tr>\n",
       "  </thead>\n",
       "  <tbody>\n",
       "    <tr>\n",
       "      <th>0</th>\n",
       "      <td>adams</td>\n",
       "      <td>shirley m</td>\n",
       "      <td>f</td>\n",
       "      <td>hispanic</td>\n",
       "      <td>shirley m adams</td>\n",
       "    </tr>\n",
       "    <tr>\n",
       "      <th>1</th>\n",
       "      <td>alonso</td>\n",
       "      <td>ana d</td>\n",
       "      <td>f</td>\n",
       "      <td>hispanic</td>\n",
       "      <td>ana d alonso</td>\n",
       "    </tr>\n",
       "    <tr>\n",
       "      <th>2</th>\n",
       "      <td>alonzo</td>\n",
       "      <td>miriam</td>\n",
       "      <td>f</td>\n",
       "      <td>hispanic</td>\n",
       "      <td>miriam  alonzo</td>\n",
       "    </tr>\n",
       "    <tr>\n",
       "      <th>3</th>\n",
       "      <td>alvarez</td>\n",
       "      <td>ivette</td>\n",
       "      <td>f</td>\n",
       "      <td>hispanic</td>\n",
       "      <td>ivette  alvarez</td>\n",
       "    </tr>\n",
       "    <tr>\n",
       "      <th>4</th>\n",
       "      <td>amador</td>\n",
       "      <td>saray</td>\n",
       "      <td>f</td>\n",
       "      <td>hispanic</td>\n",
       "      <td>saray  amador</td>\n",
       "    </tr>\n",
       "  </tbody>\n",
       "</table>\n",
       "</div>"
      ],
      "text/plain": [
       "  last name   first name gender      race              name\n",
       "0     adams   shirley m       f  hispanic   shirley m adams\n",
       "1    alonso       ana d       f  hispanic      ana d alonso\n",
       "2    alonzo     miriam        f  hispanic    miriam  alonzo\n",
       "3   alvarez     ivette        f  hispanic   ivette  alvarez\n",
       "4    amador      saray        f  hispanic     saray  amador"
      ]
     },
     "execution_count": 107,
     "metadata": {},
     "output_type": "execute_result"
    }
   ],
   "source": [
    "df3.head()"
   ]
  },
  {
   "cell_type": "code",
   "execution_count": 108,
   "metadata": {},
   "outputs": [
    {
     "data": {
      "text/plain": [
       "0         shirley m \n",
       "1             ana d \n",
       "2           miriam  \n",
       "3           ivette  \n",
       "4            saray  \n",
       "5           niurka  \n",
       "6            maria  \n",
       "7         merienne  \n",
       "8       rosalinda n \n",
       "9         migdalia  \n",
       "10         marina v \n",
       "11          carmen  \n",
       "12          zaida e \n",
       "13         lurvin p \n",
       "14         melissa  \n",
       "15        mileyka k \n",
       "16       kimberly m \n",
       "17        ivelisse  \n",
       "18            ana m \n",
       "19         emilia l \n",
       "20         connie d \n",
       "21           anna v \n",
       "22        samantha  \n",
       "23       elizabeth  \n",
       "24           ines g \n",
       "25          djerid  \n",
       "26          ivette  \n",
       "27          gloria  \n",
       "28           linda  \n",
       "29          josefa  \n",
       "           ...      \n",
       "187          maria g\n",
       "188      gabriella d\n",
       "189        courtney \n",
       "190        jasmine d\n",
       "191        angelina \n",
       "192           nina m\n",
       "193          norma l\n",
       "194        geraldil \n",
       "195         gloria p\n",
       "196         angela p\n",
       "197          jazmin \n",
       "198        eleazar p\n",
       "199         takemi m\n",
       "200          maria f\n",
       "201          mirssa \n",
       "202           vera m\n",
       "203         delfida \n",
       "204       christina \n",
       "205         betrice \n",
       "206           lisa m\n",
       "207         denise t\n",
       "208         cynthia \n",
       "209          maria g\n",
       "210          delia d\n",
       "211         eulalia \n",
       "212        monique m\n",
       "213         lynette \n",
       "214          maria s\n",
       "215           dora m\n",
       "216       manuella g\n",
       "Name:  first name, Length: 217, dtype: object"
      ]
     },
     "execution_count": 108,
     "metadata": {},
     "output_type": "execute_result"
    }
   ],
   "source": [
    "df3.pop('last name')\n",
    "df3.pop(' first name')"
   ]
  },
  {
   "cell_type": "code",
   "execution_count": 109,
   "metadata": {},
   "outputs": [],
   "source": [
    "df4 = pd.read_csv('Hispanic-Male-Names.csv')"
   ]
  },
  {
   "cell_type": "code",
   "execution_count": 110,
   "metadata": {},
   "outputs": [
    {
     "data": {
      "text/html": [
       "<div>\n",
       "<style>\n",
       "    .dataframe thead tr:only-child th {\n",
       "        text-align: right;\n",
       "    }\n",
       "\n",
       "    .dataframe thead th {\n",
       "        text-align: left;\n",
       "    }\n",
       "\n",
       "    .dataframe tbody tr th {\n",
       "        vertical-align: top;\n",
       "    }\n",
       "</style>\n",
       "<table border=\"1\" class=\"dataframe\">\n",
       "  <thead>\n",
       "    <tr style=\"text-align: right;\">\n",
       "      <th></th>\n",
       "      <th>last name</th>\n",
       "      <th>first name</th>\n",
       "      <th>gender</th>\n",
       "      <th>race</th>\n",
       "    </tr>\n",
       "  </thead>\n",
       "  <tbody>\n",
       "    <tr>\n",
       "      <th>0</th>\n",
       "      <td>abad</td>\n",
       "      <td>jonathan r</td>\n",
       "      <td>m</td>\n",
       "      <td>hispanic</td>\n",
       "    </tr>\n",
       "    <tr>\n",
       "      <th>1</th>\n",
       "      <td>abellas-bauzo</td>\n",
       "      <td>jonathan a</td>\n",
       "      <td>m</td>\n",
       "      <td>hispanic</td>\n",
       "    </tr>\n",
       "    <tr>\n",
       "      <th>2</th>\n",
       "      <td>abreu</td>\n",
       "      <td>pablo</td>\n",
       "      <td>m</td>\n",
       "      <td>hispanic</td>\n",
       "    </tr>\n",
       "    <tr>\n",
       "      <th>3</th>\n",
       "      <td>abreu sosa</td>\n",
       "      <td>basilio l</td>\n",
       "      <td>m</td>\n",
       "      <td>hispanic</td>\n",
       "    </tr>\n",
       "    <tr>\n",
       "      <th>4</th>\n",
       "      <td>abreu-bolano</td>\n",
       "      <td>german</td>\n",
       "      <td>m</td>\n",
       "      <td>hispanic</td>\n",
       "    </tr>\n",
       "  </tbody>\n",
       "</table>\n",
       "</div>"
      ],
      "text/plain": [
       "       last name    first name gender      race\n",
       "0           abad   jonathan r       m  hispanic\n",
       "1  abellas-bauzo   jonathan a       m  hispanic\n",
       "2          abreu       pablo        m  hispanic\n",
       "3     abreu sosa    basilio l       m  hispanic\n",
       "4   abreu-bolano      german        m  hispanic"
      ]
     },
     "execution_count": 110,
     "metadata": {},
     "output_type": "execute_result"
    }
   ],
   "source": [
    "df4.head()"
   ]
  },
  {
   "cell_type": "code",
   "execution_count": 111,
   "metadata": {},
   "outputs": [],
   "source": [
    "df4['name'] = df4['first name'].astype(str) + df4['last name']"
   ]
  },
  {
   "cell_type": "code",
   "execution_count": 112,
   "metadata": {},
   "outputs": [
    {
     "data": {
      "text/html": [
       "<div>\n",
       "<style>\n",
       "    .dataframe thead tr:only-child th {\n",
       "        text-align: right;\n",
       "    }\n",
       "\n",
       "    .dataframe thead th {\n",
       "        text-align: left;\n",
       "    }\n",
       "\n",
       "    .dataframe tbody tr th {\n",
       "        vertical-align: top;\n",
       "    }\n",
       "</style>\n",
       "<table border=\"1\" class=\"dataframe\">\n",
       "  <thead>\n",
       "    <tr style=\"text-align: right;\">\n",
       "      <th></th>\n",
       "      <th>last name</th>\n",
       "      <th>first name</th>\n",
       "      <th>gender</th>\n",
       "      <th>race</th>\n",
       "      <th>name</th>\n",
       "    </tr>\n",
       "  </thead>\n",
       "  <tbody>\n",
       "    <tr>\n",
       "      <th>0</th>\n",
       "      <td>abad</td>\n",
       "      <td>jonathan r</td>\n",
       "      <td>m</td>\n",
       "      <td>hispanic</td>\n",
       "      <td>jonathan r abad</td>\n",
       "    </tr>\n",
       "    <tr>\n",
       "      <th>1</th>\n",
       "      <td>abellas-bauzo</td>\n",
       "      <td>jonathan a</td>\n",
       "      <td>m</td>\n",
       "      <td>hispanic</td>\n",
       "      <td>jonathan a abellas-bauzo</td>\n",
       "    </tr>\n",
       "    <tr>\n",
       "      <th>2</th>\n",
       "      <td>abreu</td>\n",
       "      <td>pablo</td>\n",
       "      <td>m</td>\n",
       "      <td>hispanic</td>\n",
       "      <td>pablo  abreu</td>\n",
       "    </tr>\n",
       "    <tr>\n",
       "      <th>3</th>\n",
       "      <td>abreu sosa</td>\n",
       "      <td>basilio l</td>\n",
       "      <td>m</td>\n",
       "      <td>hispanic</td>\n",
       "      <td>basilio l abreu sosa</td>\n",
       "    </tr>\n",
       "    <tr>\n",
       "      <th>4</th>\n",
       "      <td>abreu-bolano</td>\n",
       "      <td>german</td>\n",
       "      <td>m</td>\n",
       "      <td>hispanic</td>\n",
       "      <td>german  abreu-bolano</td>\n",
       "    </tr>\n",
       "  </tbody>\n",
       "</table>\n",
       "</div>"
      ],
      "text/plain": [
       "       last name    first name gender      race                       name\n",
       "0           abad   jonathan r       m  hispanic            jonathan r abad\n",
       "1  abellas-bauzo   jonathan a       m  hispanic   jonathan a abellas-bauzo\n",
       "2          abreu       pablo        m  hispanic               pablo  abreu\n",
       "3     abreu sosa    basilio l       m  hispanic       basilio l abreu sosa\n",
       "4   abreu-bolano      german        m  hispanic       german  abreu-bolano"
      ]
     },
     "execution_count": 112,
     "metadata": {},
     "output_type": "execute_result"
    }
   ],
   "source": [
    "df4.head()"
   ]
  },
  {
   "cell_type": "code",
   "execution_count": 113,
   "metadata": {},
   "outputs": [
    {
     "data": {
      "text/plain": [
       "0           jonathan r \n",
       "1           jonathan a \n",
       "2               pablo  \n",
       "3            basilio l \n",
       "4              german  \n",
       "5              javier  \n",
       "6               luis a \n",
       "7               angel  \n",
       "8             antonio  \n",
       "9             brandy o \n",
       "10            carlos r \n",
       "11              diego  \n",
       "12             harold  \n",
       "13               jose  \n",
       "14            michael  \n",
       "15       christopher g \n",
       "16             felipe  \n",
       "17           abraham r \n",
       "18            alberto  \n",
       "19             brian n \n",
       "20            carlos e \n",
       "21         francisco s \n",
       "22                joe  \n",
       "23              julio  \n",
       "24              luis a \n",
       "25          moises b sr\n",
       "26           orlando g \n",
       "27             robert  \n",
       "28          wilfredo r \n",
       "29              juan j \n",
       "             ...       \n",
       "4136         apolinar p\n",
       "4137            isidro \n",
       "4138           abraham \n",
       "4139            fredy a\n",
       "4140           armando \n",
       "4141              jose \n",
       "4142             jamie \n",
       "4143              juan \n",
       "4144           santos r\n",
       "4145            daniel \n",
       "4146         francisco \n",
       "4147            javier \n",
       "4148             omar a\n",
       "4149            romero \n",
       "4150         lawrence g\n",
       "4151           carlos u\n",
       "4152            victor \n",
       "4153           rodolfo \n",
       "4154            diego h\n",
       "4155            brian o\n",
       "4156           johnny c\n",
       "4157            efrain \n",
       "4158          michael e\n",
       "4159           joshua c\n",
       "4160          michael b\n",
       "4161           carlos a\n",
       "4162             david \n",
       "4163              joel \n",
       "4164              luis \n",
       "4165         rigoberto \n",
       "Name: first name, Length: 4166, dtype: object"
      ]
     },
     "execution_count": 113,
     "metadata": {},
     "output_type": "execute_result"
    }
   ],
   "source": [
    "df4.pop('last name')\n",
    "df4.pop('first name')"
   ]
  },
  {
   "cell_type": "code",
   "execution_count": 114,
   "metadata": {
    "collapsed": true
   },
   "outputs": [],
   "source": [
    "df5 = pd.read_csv('Indian-Female-Names.csv')"
   ]
  },
  {
   "cell_type": "code",
   "execution_count": 115,
   "metadata": {},
   "outputs": [
    {
     "data": {
      "text/html": [
       "<div>\n",
       "<style>\n",
       "    .dataframe thead tr:only-child th {\n",
       "        text-align: right;\n",
       "    }\n",
       "\n",
       "    .dataframe thead th {\n",
       "        text-align: left;\n",
       "    }\n",
       "\n",
       "    .dataframe tbody tr th {\n",
       "        vertical-align: top;\n",
       "    }\n",
       "</style>\n",
       "<table border=\"1\" class=\"dataframe\">\n",
       "  <thead>\n",
       "    <tr style=\"text-align: right;\">\n",
       "      <th></th>\n",
       "      <th>name</th>\n",
       "      <th>gender</th>\n",
       "      <th>race</th>\n",
       "    </tr>\n",
       "  </thead>\n",
       "  <tbody>\n",
       "    <tr>\n",
       "      <th>0</th>\n",
       "      <td>shivani</td>\n",
       "      <td>f</td>\n",
       "      <td>indian</td>\n",
       "    </tr>\n",
       "    <tr>\n",
       "      <th>1</th>\n",
       "      <td>isha</td>\n",
       "      <td>f</td>\n",
       "      <td>indian</td>\n",
       "    </tr>\n",
       "    <tr>\n",
       "      <th>2</th>\n",
       "      <td>smt shyani devi</td>\n",
       "      <td>f</td>\n",
       "      <td>indian</td>\n",
       "    </tr>\n",
       "    <tr>\n",
       "      <th>3</th>\n",
       "      <td>divya</td>\n",
       "      <td>f</td>\n",
       "      <td>indian</td>\n",
       "    </tr>\n",
       "    <tr>\n",
       "      <th>4</th>\n",
       "      <td>mansi</td>\n",
       "      <td>f</td>\n",
       "      <td>indian</td>\n",
       "    </tr>\n",
       "  </tbody>\n",
       "</table>\n",
       "</div>"
      ],
      "text/plain": [
       "              name gender    race\n",
       "0          shivani      f  indian\n",
       "1             isha      f  indian\n",
       "2  smt shyani devi      f  indian\n",
       "3            divya      f  indian\n",
       "4            mansi      f  indian"
      ]
     },
     "execution_count": 115,
     "metadata": {},
     "output_type": "execute_result"
    }
   ],
   "source": [
    "df5.head()"
   ]
  },
  {
   "cell_type": "code",
   "execution_count": 116,
   "metadata": {
    "collapsed": true
   },
   "outputs": [],
   "source": [
    "df5 = df5[['gender','race','name']]"
   ]
  },
  {
   "cell_type": "code",
   "execution_count": 117,
   "metadata": {},
   "outputs": [
    {
     "data": {
      "text/html": [
       "<div>\n",
       "<style>\n",
       "    .dataframe thead tr:only-child th {\n",
       "        text-align: right;\n",
       "    }\n",
       "\n",
       "    .dataframe thead th {\n",
       "        text-align: left;\n",
       "    }\n",
       "\n",
       "    .dataframe tbody tr th {\n",
       "        vertical-align: top;\n",
       "    }\n",
       "</style>\n",
       "<table border=\"1\" class=\"dataframe\">\n",
       "  <thead>\n",
       "    <tr style=\"text-align: right;\">\n",
       "      <th></th>\n",
       "      <th>gender</th>\n",
       "      <th>race</th>\n",
       "      <th>name</th>\n",
       "    </tr>\n",
       "  </thead>\n",
       "  <tbody>\n",
       "    <tr>\n",
       "      <th>0</th>\n",
       "      <td>f</td>\n",
       "      <td>indian</td>\n",
       "      <td>shivani</td>\n",
       "    </tr>\n",
       "    <tr>\n",
       "      <th>1</th>\n",
       "      <td>f</td>\n",
       "      <td>indian</td>\n",
       "      <td>isha</td>\n",
       "    </tr>\n",
       "    <tr>\n",
       "      <th>2</th>\n",
       "      <td>f</td>\n",
       "      <td>indian</td>\n",
       "      <td>smt shyani devi</td>\n",
       "    </tr>\n",
       "    <tr>\n",
       "      <th>3</th>\n",
       "      <td>f</td>\n",
       "      <td>indian</td>\n",
       "      <td>divya</td>\n",
       "    </tr>\n",
       "    <tr>\n",
       "      <th>4</th>\n",
       "      <td>f</td>\n",
       "      <td>indian</td>\n",
       "      <td>mansi</td>\n",
       "    </tr>\n",
       "  </tbody>\n",
       "</table>\n",
       "</div>"
      ],
      "text/plain": [
       "  gender    race             name\n",
       "0      f  indian          shivani\n",
       "1      f  indian             isha\n",
       "2      f  indian  smt shyani devi\n",
       "3      f  indian            divya\n",
       "4      f  indian            mansi"
      ]
     },
     "execution_count": 117,
     "metadata": {},
     "output_type": "execute_result"
    }
   ],
   "source": [
    "df5.head()"
   ]
  },
  {
   "cell_type": "code",
   "execution_count": 118,
   "metadata": {
    "collapsed": true
   },
   "outputs": [],
   "source": [
    "df6 = pd.read_csv('Indian-Male-Names.csv')"
   ]
  },
  {
   "cell_type": "code",
   "execution_count": 119,
   "metadata": {},
   "outputs": [
    {
     "data": {
      "text/html": [
       "<div>\n",
       "<style>\n",
       "    .dataframe thead tr:only-child th {\n",
       "        text-align: right;\n",
       "    }\n",
       "\n",
       "    .dataframe thead th {\n",
       "        text-align: left;\n",
       "    }\n",
       "\n",
       "    .dataframe tbody tr th {\n",
       "        vertical-align: top;\n",
       "    }\n",
       "</style>\n",
       "<table border=\"1\" class=\"dataframe\">\n",
       "  <thead>\n",
       "    <tr style=\"text-align: right;\">\n",
       "      <th></th>\n",
       "      <th>name</th>\n",
       "      <th>gender</th>\n",
       "      <th>race</th>\n",
       "    </tr>\n",
       "  </thead>\n",
       "  <tbody>\n",
       "    <tr>\n",
       "      <th>0</th>\n",
       "      <td>barjraj</td>\n",
       "      <td>m</td>\n",
       "      <td>indian</td>\n",
       "    </tr>\n",
       "    <tr>\n",
       "      <th>1</th>\n",
       "      <td>ramdin verma</td>\n",
       "      <td>m</td>\n",
       "      <td>indian</td>\n",
       "    </tr>\n",
       "    <tr>\n",
       "      <th>2</th>\n",
       "      <td>sharat chandran</td>\n",
       "      <td>m</td>\n",
       "      <td>indian</td>\n",
       "    </tr>\n",
       "    <tr>\n",
       "      <th>3</th>\n",
       "      <td>birender mandal</td>\n",
       "      <td>m</td>\n",
       "      <td>indian</td>\n",
       "    </tr>\n",
       "    <tr>\n",
       "      <th>4</th>\n",
       "      <td>amit</td>\n",
       "      <td>m</td>\n",
       "      <td>indian</td>\n",
       "    </tr>\n",
       "  </tbody>\n",
       "</table>\n",
       "</div>"
      ],
      "text/plain": [
       "              name gender    race\n",
       "0          barjraj      m  indian\n",
       "1     ramdin verma      m  indian\n",
       "2  sharat chandran      m  indian\n",
       "3  birender mandal      m  indian\n",
       "4             amit      m  indian"
      ]
     },
     "execution_count": 119,
     "metadata": {},
     "output_type": "execute_result"
    }
   ],
   "source": [
    "df6.head()"
   ]
  },
  {
   "cell_type": "code",
   "execution_count": 120,
   "metadata": {
    "collapsed": true
   },
   "outputs": [],
   "source": [
    "df6 = df6[['gender','race','name']]"
   ]
  },
  {
   "cell_type": "code",
   "execution_count": 121,
   "metadata": {
    "collapsed": true
   },
   "outputs": [],
   "source": [
    "df7 = pd.read_csv('White-Female-Names.csv')"
   ]
  },
  {
   "cell_type": "code",
   "execution_count": 122,
   "metadata": {},
   "outputs": [
    {
     "data": {
      "text/html": [
       "<div>\n",
       "<style>\n",
       "    .dataframe thead tr:only-child th {\n",
       "        text-align: right;\n",
       "    }\n",
       "\n",
       "    .dataframe thead th {\n",
       "        text-align: left;\n",
       "    }\n",
       "\n",
       "    .dataframe tbody tr th {\n",
       "        vertical-align: top;\n",
       "    }\n",
       "</style>\n",
       "<table border=\"1\" class=\"dataframe\">\n",
       "  <thead>\n",
       "    <tr style=\"text-align: right;\">\n",
       "      <th></th>\n",
       "      <th>last name</th>\n",
       "      <th>first name</th>\n",
       "      <th>gender</th>\n",
       "      <th>race</th>\n",
       "    </tr>\n",
       "  </thead>\n",
       "  <tbody>\n",
       "    <tr>\n",
       "      <th>0</th>\n",
       "      <td>abbott</td>\n",
       "      <td>leslie b</td>\n",
       "      <td>f</td>\n",
       "      <td>white</td>\n",
       "    </tr>\n",
       "    <tr>\n",
       "      <th>1</th>\n",
       "      <td>abbott</td>\n",
       "      <td>peggy s</td>\n",
       "      <td>f</td>\n",
       "      <td>white</td>\n",
       "    </tr>\n",
       "    <tr>\n",
       "      <th>2</th>\n",
       "      <td>abernathy</td>\n",
       "      <td>rebecca r</td>\n",
       "      <td>f</td>\n",
       "      <td>white</td>\n",
       "    </tr>\n",
       "    <tr>\n",
       "      <th>3</th>\n",
       "      <td>abidin</td>\n",
       "      <td>antoinette</td>\n",
       "      <td>f</td>\n",
       "      <td>white</td>\n",
       "    </tr>\n",
       "    <tr>\n",
       "      <th>4</th>\n",
       "      <td>able</td>\n",
       "      <td>shaylene n</td>\n",
       "      <td>f</td>\n",
       "      <td>white</td>\n",
       "    </tr>\n",
       "  </tbody>\n",
       "</table>\n",
       "</div>"
      ],
      "text/plain": [
       "   last name     first name gender   race\n",
       "0     abbott      leslie b       f  white\n",
       "1     abbott       peggy s       f  white\n",
       "2  abernathy     rebecca r       f  white\n",
       "3     abidin   antoinette        f  white\n",
       "4       able    shaylene n       f  white"
      ]
     },
     "execution_count": 122,
     "metadata": {},
     "output_type": "execute_result"
    }
   ],
   "source": [
    "df7.head()"
   ]
  },
  {
   "cell_type": "code",
   "execution_count": 123,
   "metadata": {
    "collapsed": true
   },
   "outputs": [],
   "source": [
    "df7['name'] = df7[' first name'].astype(str) + df7['last name']"
   ]
  },
  {
   "cell_type": "code",
   "execution_count": 124,
   "metadata": {},
   "outputs": [
    {
     "data": {
      "text/html": [
       "<div>\n",
       "<style>\n",
       "    .dataframe thead tr:only-child th {\n",
       "        text-align: right;\n",
       "    }\n",
       "\n",
       "    .dataframe thead th {\n",
       "        text-align: left;\n",
       "    }\n",
       "\n",
       "    .dataframe tbody tr th {\n",
       "        vertical-align: top;\n",
       "    }\n",
       "</style>\n",
       "<table border=\"1\" class=\"dataframe\">\n",
       "  <thead>\n",
       "    <tr style=\"text-align: right;\">\n",
       "      <th></th>\n",
       "      <th>last name</th>\n",
       "      <th>first name</th>\n",
       "      <th>gender</th>\n",
       "      <th>race</th>\n",
       "      <th>name</th>\n",
       "    </tr>\n",
       "  </thead>\n",
       "  <tbody>\n",
       "    <tr>\n",
       "      <th>0</th>\n",
       "      <td>abbott</td>\n",
       "      <td>leslie b</td>\n",
       "      <td>f</td>\n",
       "      <td>white</td>\n",
       "      <td>leslie b abbott</td>\n",
       "    </tr>\n",
       "    <tr>\n",
       "      <th>1</th>\n",
       "      <td>abbott</td>\n",
       "      <td>peggy s</td>\n",
       "      <td>f</td>\n",
       "      <td>white</td>\n",
       "      <td>peggy s abbott</td>\n",
       "    </tr>\n",
       "    <tr>\n",
       "      <th>2</th>\n",
       "      <td>abernathy</td>\n",
       "      <td>rebecca r</td>\n",
       "      <td>f</td>\n",
       "      <td>white</td>\n",
       "      <td>rebecca r abernathy</td>\n",
       "    </tr>\n",
       "    <tr>\n",
       "      <th>3</th>\n",
       "      <td>abidin</td>\n",
       "      <td>antoinette</td>\n",
       "      <td>f</td>\n",
       "      <td>white</td>\n",
       "      <td>antoinette  abidin</td>\n",
       "    </tr>\n",
       "    <tr>\n",
       "      <th>4</th>\n",
       "      <td>able</td>\n",
       "      <td>shaylene n</td>\n",
       "      <td>f</td>\n",
       "      <td>white</td>\n",
       "      <td>shaylene n able</td>\n",
       "    </tr>\n",
       "  </tbody>\n",
       "</table>\n",
       "</div>"
      ],
      "text/plain": [
       "   last name     first name gender   race                  name\n",
       "0     abbott      leslie b       f  white       leslie b abbott\n",
       "1     abbott       peggy s       f  white        peggy s abbott\n",
       "2  abernathy     rebecca r       f  white   rebecca r abernathy\n",
       "3     abidin   antoinette        f  white    antoinette  abidin\n",
       "4       able    shaylene n       f  white       shaylene n able"
      ]
     },
     "execution_count": 124,
     "metadata": {},
     "output_type": "execute_result"
    }
   ],
   "source": [
    "df7.head()"
   ]
  },
  {
   "cell_type": "code",
   "execution_count": 125,
   "metadata": {},
   "outputs": [
    {
     "data": {
      "text/plain": [
       "0           leslie b \n",
       "1            peggy s \n",
       "2          rebecca r \n",
       "3        antoinette  \n",
       "4         shaylene n \n",
       "5          adneris e \n",
       "6          melanie a \n",
       "7           adriana  \n",
       "8           angela n \n",
       "9         kathleen a \n",
       "10        marjorie m \n",
       "11         melissa m \n",
       "12          nicole a \n",
       "13         delemia s \n",
       "14          andrea m \n",
       "15          angela a \n",
       "16         dannitta  \n",
       "17           haley e \n",
       "18        jennifer l \n",
       "19          lauryn a \n",
       "20           nancy k \n",
       "21          nicole m \n",
       "22         patricia  \n",
       "23           ronda r \n",
       "24        samantha e \n",
       "25           sarah m \n",
       "26           tonya e \n",
       "27           tonya m \n",
       "28          tracey j \n",
       "29          ashley r \n",
       "            ...      \n",
       "4570      patricia g \n",
       "4571       freedom c \n",
       "4572        holley a \n",
       "4573      chassidy l \n",
       "4574      virginia w \n",
       "4575      patricia a \n",
       "4576       melanie a \n",
       "4577        denise m \n",
       "4578        connie m \n",
       "4579         kisha s \n",
       "4580       melinda a \n",
       "4581        melissa  \n",
       "4582         peggy s \n",
       "4583        rachael  \n",
       "4584          tera l \n",
       "4585           lisa  \n",
       "4586         angie m \n",
       "4587       carleen v \n",
       "4588        crystal  \n",
       "4589       darlene m \n",
       "4590          kelly  \n",
       "4591       marlena c \n",
       "4592       starlet r \n",
       "4593      stefanie n \n",
       "4594         vicki d \n",
       "4595         andrea  \n",
       "4596      kimberly a \n",
       "4597         amanda  \n",
       "4598        katrina  \n",
       "4599          lorri  \n",
       "Name:  first name, Length: 4600, dtype: object"
      ]
     },
     "execution_count": 125,
     "metadata": {},
     "output_type": "execute_result"
    }
   ],
   "source": [
    "df7.pop('last name')\n",
    "df7.pop(' first name')"
   ]
  },
  {
   "cell_type": "code",
   "execution_count": 126,
   "metadata": {},
   "outputs": [
    {
     "data": {
      "text/html": [
       "<div>\n",
       "<style>\n",
       "    .dataframe thead tr:only-child th {\n",
       "        text-align: right;\n",
       "    }\n",
       "\n",
       "    .dataframe thead th {\n",
       "        text-align: left;\n",
       "    }\n",
       "\n",
       "    .dataframe tbody tr th {\n",
       "        vertical-align: top;\n",
       "    }\n",
       "</style>\n",
       "<table border=\"1\" class=\"dataframe\">\n",
       "  <thead>\n",
       "    <tr style=\"text-align: right;\">\n",
       "      <th></th>\n",
       "      <th>gender</th>\n",
       "      <th>race</th>\n",
       "      <th>name</th>\n",
       "    </tr>\n",
       "  </thead>\n",
       "  <tbody>\n",
       "    <tr>\n",
       "      <th>0</th>\n",
       "      <td>f</td>\n",
       "      <td>white</td>\n",
       "      <td>leslie b abbott</td>\n",
       "    </tr>\n",
       "    <tr>\n",
       "      <th>1</th>\n",
       "      <td>f</td>\n",
       "      <td>white</td>\n",
       "      <td>peggy s abbott</td>\n",
       "    </tr>\n",
       "    <tr>\n",
       "      <th>2</th>\n",
       "      <td>f</td>\n",
       "      <td>white</td>\n",
       "      <td>rebecca r abernathy</td>\n",
       "    </tr>\n",
       "    <tr>\n",
       "      <th>3</th>\n",
       "      <td>f</td>\n",
       "      <td>white</td>\n",
       "      <td>antoinette  abidin</td>\n",
       "    </tr>\n",
       "    <tr>\n",
       "      <th>4</th>\n",
       "      <td>f</td>\n",
       "      <td>white</td>\n",
       "      <td>shaylene n able</td>\n",
       "    </tr>\n",
       "  </tbody>\n",
       "</table>\n",
       "</div>"
      ],
      "text/plain": [
       "  gender   race                  name\n",
       "0      f  white       leslie b abbott\n",
       "1      f  white        peggy s abbott\n",
       "2      f  white   rebecca r abernathy\n",
       "3      f  white    antoinette  abidin\n",
       "4      f  white       shaylene n able"
      ]
     },
     "execution_count": 126,
     "metadata": {},
     "output_type": "execute_result"
    }
   ],
   "source": [
    "df7.head()"
   ]
  },
  {
   "cell_type": "code",
   "execution_count": 127,
   "metadata": {
    "collapsed": true
   },
   "outputs": [],
   "source": [
    "df8 = pd.read_csv('White-Male-Names.csv')"
   ]
  },
  {
   "cell_type": "code",
   "execution_count": 128,
   "metadata": {},
   "outputs": [
    {
     "data": {
      "text/html": [
       "<div>\n",
       "<style>\n",
       "    .dataframe thead tr:only-child th {\n",
       "        text-align: right;\n",
       "    }\n",
       "\n",
       "    .dataframe thead th {\n",
       "        text-align: left;\n",
       "    }\n",
       "\n",
       "    .dataframe tbody tr th {\n",
       "        vertical-align: top;\n",
       "    }\n",
       "</style>\n",
       "<table border=\"1\" class=\"dataframe\">\n",
       "  <thead>\n",
       "    <tr style=\"text-align: right;\">\n",
       "      <th></th>\n",
       "      <th>last name</th>\n",
       "      <th>first name</th>\n",
       "      <th>gender</th>\n",
       "      <th>race</th>\n",
       "    </tr>\n",
       "  </thead>\n",
       "  <tbody>\n",
       "    <tr>\n",
       "      <th>0</th>\n",
       "      <td>aaron</td>\n",
       "      <td>billy r</td>\n",
       "      <td>m</td>\n",
       "      <td>white</td>\n",
       "    </tr>\n",
       "    <tr>\n",
       "      <th>1</th>\n",
       "      <td>aaron</td>\n",
       "      <td>charles d</td>\n",
       "      <td>m</td>\n",
       "      <td>white</td>\n",
       "    </tr>\n",
       "    <tr>\n",
       "      <th>2</th>\n",
       "      <td>aaron</td>\n",
       "      <td>clarence d</td>\n",
       "      <td>m</td>\n",
       "      <td>white</td>\n",
       "    </tr>\n",
       "    <tr>\n",
       "      <th>3</th>\n",
       "      <td>aaron</td>\n",
       "      <td>justin c</td>\n",
       "      <td>m</td>\n",
       "      <td>white</td>\n",
       "    </tr>\n",
       "    <tr>\n",
       "      <th>4</th>\n",
       "      <td>aaron</td>\n",
       "      <td>roy s</td>\n",
       "      <td>m</td>\n",
       "      <td>white</td>\n",
       "    </tr>\n",
       "  </tbody>\n",
       "</table>\n",
       "</div>"
      ],
      "text/plain": [
       "  last name    first name gender   race\n",
       "0     aaron      billy r       m  white\n",
       "1     aaron    charles d       m  white\n",
       "2     aaron   clarence d       m  white\n",
       "3     aaron     justin c       m  white\n",
       "4     aaron        roy s       m  white"
      ]
     },
     "execution_count": 128,
     "metadata": {},
     "output_type": "execute_result"
    }
   ],
   "source": [
    "df8.head()"
   ]
  },
  {
   "cell_type": "code",
   "execution_count": 129,
   "metadata": {},
   "outputs": [],
   "source": [
    "df8['name'] = df8[' first name'].astype(str) + df8['last name']"
   ]
  },
  {
   "cell_type": "code",
   "execution_count": 130,
   "metadata": {},
   "outputs": [
    {
     "data": {
      "text/html": [
       "<div>\n",
       "<style>\n",
       "    .dataframe thead tr:only-child th {\n",
       "        text-align: right;\n",
       "    }\n",
       "\n",
       "    .dataframe thead th {\n",
       "        text-align: left;\n",
       "    }\n",
       "\n",
       "    .dataframe tbody tr th {\n",
       "        vertical-align: top;\n",
       "    }\n",
       "</style>\n",
       "<table border=\"1\" class=\"dataframe\">\n",
       "  <thead>\n",
       "    <tr style=\"text-align: right;\">\n",
       "      <th></th>\n",
       "      <th>last name</th>\n",
       "      <th>first name</th>\n",
       "      <th>gender</th>\n",
       "      <th>race</th>\n",
       "      <th>name</th>\n",
       "    </tr>\n",
       "  </thead>\n",
       "  <tbody>\n",
       "    <tr>\n",
       "      <th>0</th>\n",
       "      <td>aaron</td>\n",
       "      <td>billy r</td>\n",
       "      <td>m</td>\n",
       "      <td>white</td>\n",
       "      <td>billy r aaron</td>\n",
       "    </tr>\n",
       "    <tr>\n",
       "      <th>1</th>\n",
       "      <td>aaron</td>\n",
       "      <td>charles d</td>\n",
       "      <td>m</td>\n",
       "      <td>white</td>\n",
       "      <td>charles d aaron</td>\n",
       "    </tr>\n",
       "    <tr>\n",
       "      <th>2</th>\n",
       "      <td>aaron</td>\n",
       "      <td>clarence d</td>\n",
       "      <td>m</td>\n",
       "      <td>white</td>\n",
       "      <td>clarence d aaron</td>\n",
       "    </tr>\n",
       "    <tr>\n",
       "      <th>3</th>\n",
       "      <td>aaron</td>\n",
       "      <td>justin c</td>\n",
       "      <td>m</td>\n",
       "      <td>white</td>\n",
       "      <td>justin c aaron</td>\n",
       "    </tr>\n",
       "    <tr>\n",
       "      <th>4</th>\n",
       "      <td>aaron</td>\n",
       "      <td>roy s</td>\n",
       "      <td>m</td>\n",
       "      <td>white</td>\n",
       "      <td>roy s aaron</td>\n",
       "    </tr>\n",
       "  </tbody>\n",
       "</table>\n",
       "</div>"
      ],
      "text/plain": [
       "  last name    first name gender   race               name\n",
       "0     aaron      billy r       m  white      billy r aaron\n",
       "1     aaron    charles d       m  white    charles d aaron\n",
       "2     aaron   clarence d       m  white   clarence d aaron\n",
       "3     aaron     justin c       m  white     justin c aaron\n",
       "4     aaron        roy s       m  white        roy s aaron"
      ]
     },
     "execution_count": 130,
     "metadata": {},
     "output_type": "execute_result"
    }
   ],
   "source": [
    "df8.head()"
   ]
  },
  {
   "cell_type": "code",
   "execution_count": 131,
   "metadata": {},
   "outputs": [
    {
     "data": {
      "text/plain": [
       "0              aaron\n",
       "1              aaron\n",
       "2              aaron\n",
       "3              aaron\n",
       "4              aaron\n",
       "5              aaron\n",
       "6           aaronson\n",
       "7              abate\n",
       "8              abaza\n",
       "9              abbas\n",
       "10            abbate\n",
       "11            abbate\n",
       "12            abbate\n",
       "13          abberger\n",
       "14             abbey\n",
       "15            abbott\n",
       "16            abbott\n",
       "17            abbott\n",
       "18            abbott\n",
       "19            abbott\n",
       "20            abbott\n",
       "21            abbott\n",
       "22             abdal\n",
       "23          abdallah\n",
       "24            abdool\n",
       "25              abel\n",
       "26              abel\n",
       "27              abel\n",
       "28              abel\n",
       "29       abercrombie\n",
       "            ...     \n",
       "44018          young\n",
       "44019          young\n",
       "44020          young\n",
       "44021          young\n",
       "44022          young\n",
       "44023          young\n",
       "44024          young\n",
       "44025          young\n",
       "44026     youngblood\n",
       "44027     youngblood\n",
       "44028     youngblood\n",
       "44029     youngblood\n",
       "44030        younger\n",
       "44031        youngii\n",
       "44032        youngjr\n",
       "44033          yount\n",
       "44034      zacharysr\n",
       "44035          zakis\n",
       "44036     zakrzewski\n",
       "44037        zastrow\n",
       "44038           zelk\n",
       "44039        zelnick\n",
       "44040         zepeda\n",
       "44041     ziegenfuss\n",
       "44042      zimmerman\n",
       "44043         zintel\n",
       "44044         zipper\n",
       "44045          zones\n",
       "44046          zuber\n",
       "44047       zwolanek\n",
       "Name: last name, Length: 44048, dtype: object"
      ]
     },
     "execution_count": 131,
     "metadata": {},
     "output_type": "execute_result"
    }
   ],
   "source": [
    "df8.pop(' first name')\n",
    "df8.pop('last name')"
   ]
  },
  {
   "cell_type": "code",
   "execution_count": 132,
   "metadata": {},
   "outputs": [
    {
     "data": {
      "text/html": [
       "<div>\n",
       "<style>\n",
       "    .dataframe thead tr:only-child th {\n",
       "        text-align: right;\n",
       "    }\n",
       "\n",
       "    .dataframe thead th {\n",
       "        text-align: left;\n",
       "    }\n",
       "\n",
       "    .dataframe tbody tr th {\n",
       "        vertical-align: top;\n",
       "    }\n",
       "</style>\n",
       "<table border=\"1\" class=\"dataframe\">\n",
       "  <thead>\n",
       "    <tr style=\"text-align: right;\">\n",
       "      <th></th>\n",
       "      <th>gender</th>\n",
       "      <th>race</th>\n",
       "      <th>name</th>\n",
       "    </tr>\n",
       "  </thead>\n",
       "  <tbody>\n",
       "    <tr>\n",
       "      <th>0</th>\n",
       "      <td>m</td>\n",
       "      <td>white</td>\n",
       "      <td>billy r aaron</td>\n",
       "    </tr>\n",
       "    <tr>\n",
       "      <th>1</th>\n",
       "      <td>m</td>\n",
       "      <td>white</td>\n",
       "      <td>charles d aaron</td>\n",
       "    </tr>\n",
       "    <tr>\n",
       "      <th>2</th>\n",
       "      <td>m</td>\n",
       "      <td>white</td>\n",
       "      <td>clarence d aaron</td>\n",
       "    </tr>\n",
       "    <tr>\n",
       "      <th>3</th>\n",
       "      <td>m</td>\n",
       "      <td>white</td>\n",
       "      <td>justin c aaron</td>\n",
       "    </tr>\n",
       "    <tr>\n",
       "      <th>4</th>\n",
       "      <td>m</td>\n",
       "      <td>white</td>\n",
       "      <td>roy s aaron</td>\n",
       "    </tr>\n",
       "  </tbody>\n",
       "</table>\n",
       "</div>"
      ],
      "text/plain": [
       "  gender   race               name\n",
       "0      m  white      billy r aaron\n",
       "1      m  white    charles d aaron\n",
       "2      m  white   clarence d aaron\n",
       "3      m  white     justin c aaron\n",
       "4      m  white        roy s aaron"
      ]
     },
     "execution_count": 132,
     "metadata": {},
     "output_type": "execute_result"
    }
   ],
   "source": [
    "df8.head()"
   ]
  },
  {
   "cell_type": "code",
   "execution_count": 137,
   "metadata": {},
   "outputs": [
    {
     "name": "stdout",
     "output_type": "stream",
     "text": [
      "df  (2438, 3) \n",
      "df2 (35081, 3) \n",
      "df3 (217, 3) \n",
      "df4 (4166, 3) \n",
      "df5 (15382, 3) \n",
      "df6 (14845, 3) \n",
      "df7 (4600, 3) \n",
      "df8 (44048, 3)\n"
     ]
    }
   ],
   "source": [
    "print('df ',df.shape,'\\ndf2',df2.shape,'\\ndf3',df3.shape,'\\ndf4',df4.shape,'\\ndf5',df5.shape,'\\ndf6',df6.shape,'\\ndf7',df7.shape,'\\ndf8',df8.shape )"
   ]
  },
  {
   "cell_type": "code",
   "execution_count": 138,
   "metadata": {
    "collapsed": true
   },
   "outputs": [],
   "source": [
    "frames = [df,df2,df3,df4,df5,df6,df7,df8]\n",
    "final_df = pd.concat(frames)"
   ]
  },
  {
   "cell_type": "code",
   "execution_count": 140,
   "metadata": {
    "collapsed": true
   },
   "outputs": [],
   "source": [
    "df.to_csv('final_csv.csv')"
   ]
  },
  {
   "cell_type": "code",
   "execution_count": null,
   "metadata": {
    "collapsed": true
   },
   "outputs": [],
   "source": []
  }
 ],
 "metadata": {
  "kernelspec": {
   "display_name": "Python 3",
   "language": "python",
   "name": "python3"
  },
  "language_info": {
   "codemirror_mode": {
    "name": "ipython",
    "version": 3
   },
   "file_extension": ".py",
   "mimetype": "text/x-python",
   "name": "python",
   "nbconvert_exporter": "python",
   "pygments_lexer": "ipython3",
   "version": "3.6.3"
  }
 },
 "nbformat": 4,
 "nbformat_minor": 2
}
